{
 "cells": [
  {
   "cell_type": "markdown",
   "metadata": {},
   "source": [
    "# LibriSpeech Data Exploration\n",
    "\n",
    "This notebook is for exploring the LibriSpeech dataset and understanding the data pipeline for the LMU-based ASR system."
   ]
  },
  {
   "cell_type": "code",
   "execution_count": null,
   "metadata": {},
   "outputs": [],
   "source": [
    "import torch\n",
    "import torchaudio\n",
    "import librosa\n",
    "import numpy as np\n",
    "import matplotlib.pyplot as plt\n",
    "import seaborn as sns\n",
    "from datasets import load_dataset\n",
    "\n",
    "%matplotlib inline"
   ]
  },
  {
   "cell_type": "markdown",
   "metadata": {},
   "source": [
    "## Load LibriSpeech Dataset"
   ]
  },
  {
   "cell_type": "code",
   "execution_count": null,
   "metadata": {},
   "outputs": [],
   "source": [
    "# Load a small sample of the dataset\n",
    "dataset = load_dataset(\"librispeech_asr\", \"clean\", split=\"train.100[:10]\")\n",
    "print(f\"Dataset size: {len(dataset)}\")\n",
    "print(f\"Features: {dataset.features}\")"
   ]
  },
  {
   "cell_type": "markdown",
   "metadata": {},
   "source": [
    "## Explore Audio Features"
   ]
  },
  {
   "cell_type": "code",
   "execution_count": null,
   "metadata": {},
   "outputs": [],
   "source": [
    "# Examine a sample\n",
    "sample = dataset[0]\n",
    "print(f\"Text: {sample['text']}\")\n",
    "print(f\"Audio shape: {sample['audio']['array'].shape}\")\n",
    "print(f\"Sample rate: {sample['audio']['sampling_rate']}\")"
   ]
  },
  {
   "cell_type": "markdown",
   "metadata": {},
   "source": [
    "## Mel Spectrogram Conversion"
   ]
  },
  {
   "cell_type": "code",
   "execution_count": null,
   "metadata": {},
   "outputs": [],
   "source": [
    "# Convert to mel spectrogram\n",
    "audio_array = sample['audio']['array']\n",
    "sample_rate = sample['audio']['sampling_rate']\n",
    "\n",
    "# Extract mel features\n",
    "mel_features = librosa.feature.melspectrogram(\n",
    "    y=audio_array,\n",
    "    sr=sample_rate,\n",
    "    n_mels=80,\n",
    "    hop_length=int(0.010 * sample_rate),\n",
    "    win_length=int(0.025 * sample_rate)\n",
    ")\n",
    "\n",
    "# Convert to log scale\n",
    "log_mel = librosa.power_to_db(mel_features, ref=np.max)\n",
    "\n",
    "print(f\"Mel spectrogram shape: {log_mel.shape}\")\n",
    "\n",
    "# Plot the mel spectrogram\n",
    "plt.figure(figsize=(12, 4))\n",
    "librosa.display.specshow(log_mel, sr=sample_rate, x_axis='time', y_axis='mel')\n",
    "plt.colorbar(format='%+2.0f dB')\n",
    "plt.title('Mel Spectrogram')\n",
    "plt.show()"
   ]
  }
 ],
 "metadata": {
  "kernelspec": {
   "display_name": "Python 3",
   "language": "python",
   "name": "python3"
  },
  "language_info": {
   "codemirror_mode": {
    "name": "ipython",
    "version": 3
   },
   "file_extension": ".py",
   "mimetype": "text/x-python",
   "name": "python",
   "nbconvert_exporter": "python",
   "pygments_lexer": "ipython3",
   "version": "3.8.5"
  }
 },
 "nbformat": 4,
 "nbformat_minor": 4
}